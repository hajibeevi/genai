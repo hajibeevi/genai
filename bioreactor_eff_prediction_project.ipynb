{
  "nbformat": 4,
  "nbformat_minor": 0,
  "metadata": {
    "colab": {
      "provenance": [],
      "authorship_tag": "ABX9TyP3kk8O0+nJsKgPnMbh98IZ",
      "include_colab_link": true
    },
    "kernelspec": {
      "name": "python3",
      "display_name": "Python 3"
    },
    "language_info": {
      "name": "python"
    }
  },
  "cells": [
    {
      "cell_type": "markdown",
      "metadata": {
        "id": "view-in-github",
        "colab_type": "text"
      },
      "source": [
        "<a href=\"https://colab.research.google.com/github/hajibeevi/genai/blob/main/bioreactor_eff_prediction_project.ipynb\" target=\"_parent\"><img src=\"https://colab.research.google.com/assets/colab-badge.svg\" alt=\"Open In Colab\"/></a>"
      ]
    },
    {
      "cell_type": "code",
      "execution_count": 1,
      "metadata": {
        "colab": {
          "base_uri": "https://localhost:8080/"
        },
        "id": "0mgj61TbkkB6",
        "outputId": "f0c02810-409b-41e4-cf82-4835acc7f69b"
      },
      "outputs": [
        {
          "output_type": "stream",
          "name": "stdout",
          "text": [
            "Model Accuracy: 0.33\n",
            "Predicted Efficiency: Low\n"
          ]
        },
        {
          "output_type": "stream",
          "name": "stderr",
          "text": [
            "/usr/local/lib/python3.11/dist-packages/sklearn/utils/validation.py:2739: UserWarning: X does not have valid feature names, but LogisticRegression was fitted with feature names\n",
            "  warnings.warn(\n"
          ]
        }
      ],
      "source": [
        "# Install necessary packages\n",
        "!pip install -q scikit-learn pandas\n",
        "\n",
        "# Import libraries\n",
        "import pandas as pd\n",
        "from sklearn.model_selection import train_test_split\n",
        "from sklearn.linear_model import LogisticRegression\n",
        "from sklearn.metrics import accuracy_score\n",
        "\n",
        "# Simulated dataset for bioreactor efficiency\n",
        "data = {\n",
        "    'temperature': [30, 35, 37, 25, 40, 32, 28, 33, 34, 36],\n",
        "    'ph': [7.0, 6.8, 7.2, 7.5, 6.5, 7.0, 7.3, 6.9, 7.1, 6.8],\n",
        "    'oxygen_concentration': [5.0, 4.8, 5.2, 5.5, 4.6, 5.1, 4.9, 5.0, 5.3, 4.7],\n",
        "    'substrate_concentration': [15, 16, 14, 13, 15, 16, 14, 13, 15, 16],\n",
        "    'efficiency': [1, 0, 1, 0, 1, 1, 0, 1, 1, 0]  # 1 = High Efficiency, 0 = Low Efficiency\n",
        "}\n",
        "\n",
        "# Create DataFrame\n",
        "df = pd.DataFrame(data)\n",
        "\n",
        "# Features and target variable\n",
        "X = df[['temperature', 'ph', 'oxygen_concentration', 'substrate_concentration']]\n",
        "y = df['efficiency']\n",
        "\n",
        "# Split dataset into training and testing sets\n",
        "X_train, X_test, y_train, y_test = train_test_split(X, y, test_size=0.3, random_state=42)\n",
        "\n",
        "# Train a Logistic Regression model\n",
        "model = LogisticRegression()\n",
        "model.fit(X_train, y_train)\n",
        "\n",
        "# Make predictions on the test set\n",
        "y_pred = model.predict(X_test)\n",
        "\n",
        "# Evaluate the model's accuracy\n",
        "accuracy = accuracy_score(y_test, y_pred)\n",
        "print(f\"Model Accuracy: {accuracy:.2f}\")\n",
        "\n",
        "# Predict efficiency for new conditions\n",
        "new_conditions = [[32, 7.0, 5.0, 15]]  # New bioreactor conditions\n",
        "prediction = model.predict(new_conditions)\n",
        "print(f\"Predicted Efficiency: {'High' if prediction[0] == 1 else 'Low'}\")\n"
      ]
    }
  ]
}